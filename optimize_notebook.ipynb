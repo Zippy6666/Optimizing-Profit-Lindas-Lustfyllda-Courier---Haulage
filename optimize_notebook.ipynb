{
 "cells": [
  {
   "cell_type": "markdown",
   "metadata": {},
   "source": [
    "# Imports"
   ]
  },
  {
   "cell_type": "code",
   "execution_count": 1,
   "metadata": {},
   "outputs": [],
   "source": [
    "import main"
   ]
  },
  {
   "cell_type": "markdown",
   "metadata": {},
   "source": [
    "# Packaging and Training\n",
    "Package vans for a few \"days\" and stop only when we think we have learned the best way to do so. Store information about every time we packaged the vans in `training_iterations`."
   ]
  },
  {
   "cell_type": "code",
   "execution_count": 4,
   "metadata": {},
   "outputs": [
    {
     "name": "stderr",
     "output_type": "stream",
     "text": [
      "                                                                                                                                                                          \r"
     ]
    },
    {
     "name": "stdout",
     "output_type": "stream",
     "text": [
      "Done learning!\n"
     ]
    }
   ],
   "source": [
    "N_PACKAGES = 10_000\n",
    "\n",
    "training_iterations: list[dict] = []\n",
    "\n",
    "done_learning = False\n",
    "\n",
    "while not done_learning:\n",
    "    training_iteration = main.package_vans(N_PACKAGES)\n",
    "    training_iterations.append(training_iteration)\n",
    "    done_learning = training_iteration[\"done_learning\"]\n",
    "\n",
    "print(\"Done learning!\")"
   ]
  },
  {
   "cell_type": "code",
   "execution_count": null,
   "metadata": {},
   "outputs": [],
   "source": [
    "last_iteration = training_iterations[-1]"
   ]
  }
 ],
 "metadata": {
  "kernelspec": {
   "display_name": "Python 3 (ipykernel)",
   "language": "python",
   "name": "python3"
  },
  "language_info": {
   "codemirror_mode": {
    "name": "ipython",
    "version": 3
   },
   "file_extension": ".py",
   "mimetype": "text/x-python",
   "name": "python",
   "nbconvert_exporter": "python",
   "pygments_lexer": "ipython3",
   "version": "3.12.3"
  }
 },
 "nbformat": 4,
 "nbformat_minor": 2
}
