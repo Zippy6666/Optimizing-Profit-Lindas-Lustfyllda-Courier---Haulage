{
 "cells": [
  {
   "cell_type": "markdown",
   "metadata": {},
   "source": [
    "# Imports"
   ]
  },
  {
   "cell_type": "code",
   "execution_count": 51,
   "metadata": {},
   "outputs": [],
   "source": [
    "import main\n",
    "import matplotlib.pyplot as plt\n",
    "from pandas import DataFrame\n",
    "from enum import IntEnum"
   ]
  },
  {
   "cell_type": "markdown",
   "metadata": {},
   "source": [
    "# Packaging and Training\n",
    "Package vans for a few \"days\" and stop only when we think we have learned the best way to do so. Store information about every time we packaged the vans in `training_iterations`."
   ]
  },
  {
   "cell_type": "markdown",
   "metadata": {},
   "source": [
    "Note that learning can take several minutes, but since its progress is saved in a file locally it won't have to learn it all again."
   ]
  },
  {
   "cell_type": "code",
   "execution_count": 52,
   "metadata": {},
   "outputs": [
    {
     "name": "stderr",
     "output_type": "stream",
     "text": [
      "Seeding...:   0%|                                                                                                                | 0/10000 [00:00<?, ?it/s]"
     ]
    },
    {
     "name": "stderr",
     "output_type": "stream",
     "text": [
      "                                                                                                                                                           \r"
     ]
    },
    {
     "name": "stdout",
     "output_type": "stream",
     "text": [
      "Done learning!\n"
     ]
    }
   ],
   "source": [
    "N_PACKAGES = 10_000\n",
    "\n",
    "training_iterations: list[dict] = []\n",
    "\n",
    "done_learning = False\n",
    "\n",
    "while not done_learning:\n",
    "    training_iteration = main.package_vans(N_PACKAGES)\n",
    "    training_iterations.append(training_iteration)\n",
    "    done_learning = training_iteration[\"done_learning\"]\n",
    "\n",
    "print(\"Done learning!\")"
   ]
  },
  {
   "cell_type": "markdown",
   "metadata": {},
   "source": [
    "# Data\n",
    "Get the data from the last iteration of training."
   ]
  },
  {
   "cell_type": "code",
   "execution_count": 53,
   "metadata": {},
   "outputs": [
    {
     "data": {
      "text/html": [
       "<div>\n",
       "<style scoped>\n",
       "    .dataframe tbody tr th:only-of-type {\n",
       "        vertical-align: middle;\n",
       "    }\n",
       "\n",
       "    .dataframe tbody tr th {\n",
       "        vertical-align: top;\n",
       "    }\n",
       "\n",
       "    .dataframe thead th {\n",
       "        text-align: right;\n",
       "    }\n",
       "</style>\n",
       "<table border=\"1\" class=\"dataframe\">\n",
       "  <thead>\n",
       "    <tr style=\"text-align: right;\">\n",
       "      <th></th>\n",
       "      <th>Paket_id</th>\n",
       "      <th>Vikt</th>\n",
       "      <th>Förtjänst</th>\n",
       "      <th>Deadline</th>\n",
       "      <th>Delivered</th>\n",
       "    </tr>\n",
       "  </thead>\n",
       "  <tbody>\n",
       "    <tr>\n",
       "      <th>390</th>\n",
       "      <td>6592070419</td>\n",
       "      <td>1.2</td>\n",
       "      <td>9</td>\n",
       "      <td>1</td>\n",
       "      <td>0</td>\n",
       "    </tr>\n",
       "    <tr>\n",
       "      <th>8260</th>\n",
       "      <td>6592078289</td>\n",
       "      <td>1.4</td>\n",
       "      <td>10</td>\n",
       "      <td>2</td>\n",
       "      <td>0</td>\n",
       "    </tr>\n",
       "    <tr>\n",
       "      <th>5144</th>\n",
       "      <td>6592075173</td>\n",
       "      <td>1.5</td>\n",
       "      <td>10</td>\n",
       "      <td>1</td>\n",
       "      <td>0</td>\n",
       "    </tr>\n",
       "    <tr>\n",
       "      <th>7053</th>\n",
       "      <td>6592077082</td>\n",
       "      <td>1.4</td>\n",
       "      <td>9</td>\n",
       "      <td>2</td>\n",
       "      <td>0</td>\n",
       "    </tr>\n",
       "    <tr>\n",
       "      <th>2040</th>\n",
       "      <td>6592072069</td>\n",
       "      <td>1.1</td>\n",
       "      <td>7</td>\n",
       "      <td>1</td>\n",
       "      <td>0</td>\n",
       "    </tr>\n",
       "    <tr>\n",
       "      <th>...</th>\n",
       "      <td>...</td>\n",
       "      <td>...</td>\n",
       "      <td>...</td>\n",
       "      <td>...</td>\n",
       "      <td>...</td>\n",
       "    </tr>\n",
       "    <tr>\n",
       "      <th>8685</th>\n",
       "      <td>6592078714</td>\n",
       "      <td>10.8</td>\n",
       "      <td>3</td>\n",
       "      <td>-2</td>\n",
       "      <td>-1</td>\n",
       "    </tr>\n",
       "    <tr>\n",
       "      <th>5520</th>\n",
       "      <td>6592075549</td>\n",
       "      <td>7.8</td>\n",
       "      <td>2</td>\n",
       "      <td>-2</td>\n",
       "      <td>-1</td>\n",
       "    </tr>\n",
       "    <tr>\n",
       "      <th>2927</th>\n",
       "      <td>6592072956</td>\n",
       "      <td>8.0</td>\n",
       "      <td>2</td>\n",
       "      <td>-2</td>\n",
       "      <td>-1</td>\n",
       "    </tr>\n",
       "    <tr>\n",
       "      <th>6823</th>\n",
       "      <td>6592076852</td>\n",
       "      <td>9.1</td>\n",
       "      <td>2</td>\n",
       "      <td>-2</td>\n",
       "      <td>-1</td>\n",
       "    </tr>\n",
       "    <tr>\n",
       "      <th>4076</th>\n",
       "      <td>6592074105</td>\n",
       "      <td>5.4</td>\n",
       "      <td>1</td>\n",
       "      <td>-2</td>\n",
       "      <td>-1</td>\n",
       "    </tr>\n",
       "  </tbody>\n",
       "</table>\n",
       "<p>10000 rows × 5 columns</p>\n",
       "</div>"
      ],
      "text/plain": [
       "        Paket_id  Vikt  Förtjänst  Deadline  Delivered\n",
       "390   6592070419   1.2          9         1          0\n",
       "8260  6592078289   1.4         10         2          0\n",
       "5144  6592075173   1.5         10         1          0\n",
       "7053  6592077082   1.4          9         2          0\n",
       "2040  6592072069   1.1          7         1          0\n",
       "...          ...   ...        ...       ...        ...\n",
       "8685  6592078714  10.8          3        -2         -1\n",
       "5520  6592075549   7.8          2        -2         -1\n",
       "2927  6592072956   8.0          2        -2         -1\n",
       "6823  6592076852   9.1          2        -2         -1\n",
       "4076  6592074105   5.4          1        -2         -1\n",
       "\n",
       "[10000 rows x 5 columns]"
      ]
     },
     "execution_count": 53,
     "metadata": {},
     "output_type": "execute_result"
    }
   ],
   "source": [
    "last_iteration = training_iterations[-1]\n",
    "df = last_iteration[\"df\"]\n",
    "df"
   ]
  },
  {
   "cell_type": "markdown",
   "metadata": {},
   "source": [
    "# Get Packages Function\n",
    "Create a function for retrieving the packages of a selected van, or to retrieve the packages left in the warehouse."
   ]
  },
  {
   "cell_type": "code",
   "execution_count": 54,
   "metadata": {},
   "outputs": [],
   "source": [
    "class VanNumber(IntEnum):\n",
    "    NOT_DELIVERED = -1\n",
    "    ONE = 0\n",
    "    TWO = 1\n",
    "    THREE = 2\n",
    "    FOUR = 3\n",
    "    FIVE = 4\n",
    "    SIX = 5\n",
    "    SEVEN = 6\n",
    "    EIGHT = 7\n",
    "    NINE = 8\n",
    "    TEN = 9\n",
    "\n",
    "def get_packages(van_number: VanNumber) -> DataFrame:\n",
    "    return df[ (df[\"Delivered\"] == van_number) ]"
   ]
  },
  {
   "cell_type": "code",
   "execution_count": null,
   "metadata": {},
   "outputs": [],
   "source": []
  },
  {
   "cell_type": "code",
   "execution_count": null,
   "metadata": {},
   "outputs": [],
   "source": []
  }
 ],
 "metadata": {
  "kernelspec": {
   "display_name": "Python 3 (ipykernel)",
   "language": "python",
   "name": "python3"
  },
  "language_info": {
   "codemirror_mode": {
    "name": "ipython",
    "version": 3
   },
   "file_extension": ".py",
   "mimetype": "text/x-python",
   "name": "python",
   "nbconvert_exporter": "python",
   "pygments_lexer": "ipython3",
   "version": "3.12.3"
  }
 },
 "nbformat": 4,
 "nbformat_minor": 2
}
